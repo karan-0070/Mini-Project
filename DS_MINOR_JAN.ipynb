{
  "nbformat": 4,
  "nbformat_minor": 0,
  "metadata": {
    "colab": {
      "name": "DS-MINOR-JAN.ipynb",
      "provenance": [],
      "authorship_tag": "ABX9TyP9dRYq0WQ6vpjlu4lXfDyD",
      "include_colab_link": true
    },
    "kernelspec": {
      "name": "python3",
      "display_name": "Python 3"
    }
  },
  "cells": [
    {
      "cell_type": "markdown",
      "metadata": {
        "id": "view-in-github",
        "colab_type": "text"
      },
      "source": [
        "<a href=\"https://colab.research.google.com/github/karan-0070/Mini-Project/blob/main/DS_MINOR_JAN.ipynb\" target=\"_parent\"><img src=\"https://colab.research.google.com/assets/colab-badge.svg\" alt=\"Open In Colab\"/></a>"
      ]
    },
    {
      "cell_type": "code",
      "metadata": {
        "colab": {
          "base_uri": "https://localhost:8080/"
        },
        "id": "XdisDQfS8cLx",
        "outputId": "1a4c02ab-77ee-4596-d691-45f52f998648"
      },
      "source": [
        "!pip install ipython-autotime\r\n",
        "%load_ext autotime"
      ],
      "execution_count": null,
      "outputs": [
        {
          "output_type": "stream",
          "text": [
            "Collecting ipython-autotime\n",
            "  Downloading https://files.pythonhosted.org/packages/b4/c9/b413a24f759641bc27ef98c144b590023c8038dfb8a3f09e713e9dff12c1/ipython_autotime-0.3.1-py2.py3-none-any.whl\n",
            "Requirement already satisfied: ipython in /usr/local/lib/python3.6/dist-packages (from ipython-autotime) (5.5.0)\n",
            "Requirement already satisfied: pickleshare in /usr/local/lib/python3.6/dist-packages (from ipython->ipython-autotime) (0.7.5)\n",
            "Requirement already satisfied: pexpect; sys_platform != \"win32\" in /usr/local/lib/python3.6/dist-packages (from ipython->ipython-autotime) (4.8.0)\n",
            "Requirement already satisfied: traitlets>=4.2 in /usr/local/lib/python3.6/dist-packages (from ipython->ipython-autotime) (4.3.3)\n",
            "Requirement already satisfied: simplegeneric>0.8 in /usr/local/lib/python3.6/dist-packages (from ipython->ipython-autotime) (0.8.1)\n",
            "Requirement already satisfied: pygments in /usr/local/lib/python3.6/dist-packages (from ipython->ipython-autotime) (2.6.1)\n",
            "Requirement already satisfied: setuptools>=18.5 in /usr/local/lib/python3.6/dist-packages (from ipython->ipython-autotime) (53.0.0)\n",
            "Requirement already satisfied: prompt-toolkit<2.0.0,>=1.0.4 in /usr/local/lib/python3.6/dist-packages (from ipython->ipython-autotime) (1.0.18)\n",
            "Requirement already satisfied: decorator in /usr/local/lib/python3.6/dist-packages (from ipython->ipython-autotime) (4.4.2)\n",
            "Requirement already satisfied: ptyprocess>=0.5 in /usr/local/lib/python3.6/dist-packages (from pexpect; sys_platform != \"win32\"->ipython->ipython-autotime) (0.7.0)\n",
            "Requirement already satisfied: six in /usr/local/lib/python3.6/dist-packages (from traitlets>=4.2->ipython->ipython-autotime) (1.15.0)\n",
            "Requirement already satisfied: ipython-genutils in /usr/local/lib/python3.6/dist-packages (from traitlets>=4.2->ipython->ipython-autotime) (0.2.0)\n",
            "Requirement already satisfied: wcwidth in /usr/local/lib/python3.6/dist-packages (from prompt-toolkit<2.0.0,>=1.0.4->ipython->ipython-autotime) (0.2.5)\n",
            "Installing collected packages: ipython-autotime\n",
            "Successfully installed ipython-autotime-0.3.1\n",
            "time: 206 µs (started: 2021-02-18 16:48:14 +00:00)\n"
          ],
          "name": "stdout"
        }
      ]
    },
    {
      "cell_type": "code",
      "metadata": {
        "colab": {
          "base_uri": "https://localhost:8080/"
        },
        "id": "uIj2UA1-5kgy",
        "outputId": "2674a8cb-432e-428f-e91f-0a72c8fd3267"
      },
      "source": [
        "!pip install bing-image-downloader"
      ],
      "execution_count": null,
      "outputs": [
        {
          "output_type": "stream",
          "text": [
            "Collecting bing-image-downloader\n",
            "  Downloading https://files.pythonhosted.org/packages/0d/bf/537a61030b84ae4cd5022d5c7b014fd9bc3ce7c02358919153a6658a61d3/bing_image_downloader-1.0.4-py3-none-any.whl\n",
            "Installing collected packages: bing-image-downloader\n",
            "Successfully installed bing-image-downloader-1.0.4\n"
          ],
          "name": "stdout"
        }
      ]
    },
    {
      "cell_type": "code",
      "metadata": {
        "id": "MWzyorVd6T1L"
      },
      "source": [
        "!mkdir images"
      ],
      "execution_count": null,
      "outputs": []
    },
    {
      "cell_type": "code",
      "metadata": {
        "colab": {
          "base_uri": "https://localhost:8080/"
        },
        "id": "Af7JWQZx6b5D",
        "outputId": "227f95fb-73d6-4fa0-d617-541cd8ef8626"
      },
      "source": [
        "from bing_image_downloader import downloader\r\n",
        "downloader.download(\"super cars\",limit=20,output_dir='images',adult_filter_off=True)"
      ],
      "execution_count": null,
      "outputs": [
        {
          "output_type": "stream",
          "text": [
            "\n",
            "\n",
            "[!!]Indexing page: 1\n",
            "\n",
            "[%] Indexed 12 Images on Page 1.\n",
            "\n",
            "===============================================\n",
            "\n",
            "[%] Downloading Image #1 from http://media.idownloadblog.com/wp-content/uploads/2015/03/Supercar-Lambo-Vent.jpg\n",
            "[%] File Downloaded !\n",
            "\n",
            "[%] Downloading Image #2 from https://pictures.topspeed.com/IMG/crop/201903/mclaren-senna-gtr-is-4_1600x0w.jpg\n",
            "[%] File Downloaded !\n",
            "\n",
            "[%] Downloading Image #3 from https://www.hdwallpapers.in/download/2016_acura_nsx_supercar-1920x1080.jpg\n",
            "[%] File Downloaded !\n",
            "\n",
            "[%] Downloading Image #4 from https://pictures.topspeed.com/IMG/crop/201104/matte-purple-lamborg-3_1600x0w.jpg\n",
            "[%] File Downloaded !\n",
            "\n",
            "[%] Downloading Image #5 from http://www.progcovers.com/motor/fiagt2005.jpg\n",
            "[%] File Downloaded !\n",
            "\n",
            "[%] Downloading Image #6 from https://www.supercars.net/blog/wp-content/uploads/2018/05/high_porsche_919_hybrid_evo_spa_francorchamps_2018_porsche_ag-7.jpg\n",
            "[%] File Downloaded !\n",
            "\n",
            "[%] Downloading Image #7 from https://www.topcarrating.com/marussia/2010-marussia-b1-15.jpg\n",
            "[%] File Downloaded !\n",
            "\n",
            "[%] Downloading Image #8 from https://www.wsupercars.com/wallpapers/Lexus/2013-Lexus-IS-250-F-Sport-003-1080.jpg\n",
            "[%] File Downloaded !\n",
            "\n",
            "[%] Downloading Image #9 from https://wallpapershome.com/images/wallpapers/dodge-challenger-srt-hellcat-1080x1920-2019-cars-4k-19497.jpg\n",
            "[%] File Downloaded !\n",
            "\n",
            "[%] Downloading Image #10 from https://cdn.motor1.com/images/mgl/QE00B/s3/tesla-cybertruck-reveal.jpg\n",
            "[Error]Invalid image, not saving https://cdn.motor1.com/images/mgl/QE00B/s3/tesla-cybertruck-reveal.jpg\n",
            "\n",
            "[!] Issue getting: https://cdn.motor1.com/images/mgl/QE00B/s3/tesla-cybertruck-reveal.jpg\n",
            "[!] Error:: No active exception to reraise\n",
            "[%] Downloading Image #10 from https://pictures.topspeed.com/IMG/crop/201204/koenigsegg-agera-x_1600x0w.jpg\n",
            "[%] File Downloaded !\n",
            "\n",
            "[%] Downloading Image #11 from http://www.movienewz.com/img/gallery/need-for-speed/photos/need_for_speed_movie_2.jpg\n",
            "[%] File Downloaded !\n",
            "\n",
            "\n",
            "\n",
            "[!!]Indexing page: 2\n",
            "\n",
            "[%] Indexed 12 Images on Page 2.\n",
            "\n",
            "===============================================\n",
            "\n",
            "[%] Downloading Image #12 from http://media.idownloadblog.com/wp-content/uploads/2015/03/Supercar-Lambo-Vent.jpg\n",
            "[%] File Downloaded !\n",
            "\n",
            "[%] Downloading Image #13 from https://pictures.topspeed.com/IMG/crop/201903/mclaren-senna-gtr-is-4_1600x0w.jpg\n",
            "[%] File Downloaded !\n",
            "\n",
            "[%] Downloading Image #14 from https://www.hdwallpapers.in/download/2016_acura_nsx_supercar-1920x1080.jpg\n",
            "[%] File Downloaded !\n",
            "\n",
            "[%] Downloading Image #15 from https://pictures.topspeed.com/IMG/crop/201104/matte-purple-lamborg-3_1600x0w.jpg\n",
            "[%] File Downloaded !\n",
            "\n",
            "[%] Downloading Image #16 from http://www.progcovers.com/motor/fiagt2005.jpg\n",
            "[%] File Downloaded !\n",
            "\n",
            "[%] Downloading Image #17 from https://www.supercars.net/blog/wp-content/uploads/2018/05/high_porsche_919_hybrid_evo_spa_francorchamps_2018_porsche_ag-7.jpg\n",
            "[%] File Downloaded !\n",
            "\n",
            "[%] Downloading Image #18 from https://www.topcarrating.com/marussia/2010-marussia-b1-15.jpg\n",
            "[%] File Downloaded !\n",
            "\n",
            "[%] Downloading Image #19 from https://www.wsupercars.com/wallpapers/Lexus/2013-Lexus-IS-250-F-Sport-003-1080.jpg\n",
            "[%] File Downloaded !\n",
            "\n",
            "[%] Downloading Image #20 from https://wallpapershome.com/images/wallpapers/dodge-challenger-srt-hellcat-1080x1920-2019-cars-4k-19497.jpg\n",
            "[%] File Downloaded !\n",
            "\n",
            "\n",
            "\n",
            "[%] Done. Downloaded 20 images.\n",
            "\n",
            "===============================================\n",
            "\n"
          ],
          "name": "stdout"
        }
      ]
    },
    {
      "cell_type": "code",
      "metadata": {
        "colab": {
          "base_uri": "https://localhost:8080/"
        },
        "id": "TwjwjLqt7hLD",
        "outputId": "d529f410-a7e5-4ccb-fd84-d49b561e7d09"
      },
      "source": [
        "from bing_image_downloader import downloader\r\n",
        "downloader.download(\"soccer ball\",limit=20,output_dir='images',adult_filter_off=True)"
      ],
      "execution_count": null,
      "outputs": [
        {
          "output_type": "stream",
          "text": [
            "\n",
            "\n",
            "[!!]Indexing page: 1\n",
            "\n",
            "[%] Indexed 13 Images on Page 1.\n",
            "\n",
            "===============================================\n",
            "\n",
            "[%] Downloading Image #1 from https://www.pegasusacademytrust.org/media/soccer-ball-in-net.jpg\n",
            "[!] Issue getting: https://www.pegasusacademytrust.org/media/soccer-ball-in-net.jpg\n",
            "[!] Error:: HTTP Error 404: Not Found\n",
            "[%] Downloading Image #1 from https://i.ytimg.com/vi/U4JOLr3x6lY/maxresdefault.jpg\n",
            "[%] File Downloaded !\n",
            "\n",
            "[%] Downloading Image #2 from http://earth.publicdomainq.net/201801/02o/publicdomainq-0017418xyqexx.jpg\n",
            "[%] File Downloaded !\n",
            "\n",
            "[%] Downloading Image #3 from https://www.pixelstalk.net/wp-content/uploads/2016/10/Football-World-Cup-wallpapers-for-galaxy-S6.jpg\n",
            "[%] File Downloaded !\n",
            "\n",
            "[%] Downloading Image #4 from https://us.hola.com/imagenes/celebrities/2019012516388/maluma-singer-soccer-player-talents/0-114-449/maluma-cantante-transformacion15-a.jpg?composite=0.9|1/8xw:*;right[0.02xw],bottom[0.02xw]|RJmqrP23Dz8EaRRxMm5bs07f5pu42i2f\n",
            "[%] File Downloaded !\n",
            "\n",
            "[%] Downloading Image #5 from https://www.tout-pour-ton-mobile.com/wp-content/uploads/2010/02/0320.gif\n",
            "[%] File Downloaded !\n",
            "\n",
            "[%] Downloading Image #6 from https://www.bing.com/th/id/OGC.2c57b1d5bf81377c2fa45a359ea99334?pid=1.7&amp;rurl=https%3a%2f%2fwww.tout-pour-ton-mobile.com%2fwp-content%2fuploads%2f2010%2f02%2f0320.gif&amp;ehk=sA31J08iYwGmYA4iJFGaFYcBpEF6HSqZcm4peN1N9yM%3d\n",
            "[!] Issue getting: https://www.bing.com/th/id/OGC.2c57b1d5bf81377c2fa45a359ea99334?pid=1.7&amp;rurl=https%3a%2f%2fwww.tout-pour-ton-mobile.com%2fwp-content%2fuploads%2f2010%2f02%2f0320.gif&amp;ehk=sA31J08iYwGmYA4iJFGaFYcBpEF6HSqZcm4peN1N9yM%3d\n",
            "[!] Error:: HTTP Error 404: Not Found\n",
            "[%] Downloading Image #6 from https://www.nationalgeographic.com/content/dam/magazine/rights-exempt/2019/06/sargasso-sea/sargasso-sea-fish-ocean-20.ngsversion.1556218930140.adapt.1900.1.jpg\n",
            "[%] File Downloaded !\n",
            "\n",
            "[%] Downloading Image #7 from https://blog.marketo.com/content/uploads/2014/04/moneyball.jpg\n",
            "[%] File Downloaded !\n",
            "\n",
            "[%] Downloading Image #8 from https://www.vaniercollege.qc.ca/sports-recreation/files/2017/01/IMG_4545.jpg\n",
            "[%] File Downloaded !\n",
            "\n",
            "[%] Downloading Image #9 from https://vancouver.ca/images/cov/feature/pickleball-court-landing.jpg\n",
            "[%] File Downloaded !\n",
            "\n",
            "[%] Downloading Image #10 from https://www.gotquestions.org/img/OG/did-God-create-universe.jpg\n",
            "[%] File Downloaded !\n",
            "\n",
            "[%] Downloading Image #11 from https://divnil.com/wallpaper/iphone/img/app/h/o/hot_anime_girls_iphone_wallpapers_aa800208abeccd52b095e519aef5aba8_raw.jpg\n",
            "[%] File Downloaded !\n",
            "\n",
            "\n",
            "\n",
            "[!!]Indexing page: 2\n",
            "\n",
            "[%] Indexed 13 Images on Page 2.\n",
            "\n",
            "===============================================\n",
            "\n",
            "[%] Downloading Image #12 from https://www.pegasusacademytrust.org/media/soccer-ball-in-net.jpg\n",
            "[!] Issue getting: https://www.pegasusacademytrust.org/media/soccer-ball-in-net.jpg\n",
            "[!] Error:: HTTP Error 404: Not Found\n",
            "[%] Downloading Image #12 from https://i.ytimg.com/vi/U4JOLr3x6lY/maxresdefault.jpg\n",
            "[%] File Downloaded !\n",
            "\n",
            "[%] Downloading Image #13 from http://earth.publicdomainq.net/201801/02o/publicdomainq-0017418xyqexx.jpg\n",
            "[%] File Downloaded !\n",
            "\n",
            "[%] Downloading Image #14 from https://www.pixelstalk.net/wp-content/uploads/2016/10/Football-World-Cup-wallpapers-for-galaxy-S6.jpg\n",
            "[%] File Downloaded !\n",
            "\n",
            "[%] Downloading Image #15 from https://us.hola.com/imagenes/celebrities/2019012516388/maluma-singer-soccer-player-talents/0-114-449/maluma-cantante-transformacion15-a.jpg?composite=0.9|1/8xw:*;right[0.02xw],bottom[0.02xw]|RJmqrP23Dz8EaRRxMm5bs07f5pu42i2f\n",
            "[%] File Downloaded !\n",
            "\n",
            "[%] Downloading Image #16 from https://www.tout-pour-ton-mobile.com/wp-content/uploads/2010/02/0320.gif\n",
            "[%] File Downloaded !\n",
            "\n",
            "[%] Downloading Image #17 from https://www.bing.com/th/id/OGC.2c57b1d5bf81377c2fa45a359ea99334?pid=1.7&amp;rurl=https%3a%2f%2fwww.tout-pour-ton-mobile.com%2fwp-content%2fuploads%2f2010%2f02%2f0320.gif&amp;ehk=sA31J08iYwGmYA4iJFGaFYcBpEF6HSqZcm4peN1N9yM%3d\n",
            "[!] Issue getting: https://www.bing.com/th/id/OGC.2c57b1d5bf81377c2fa45a359ea99334?pid=1.7&amp;rurl=https%3a%2f%2fwww.tout-pour-ton-mobile.com%2fwp-content%2fuploads%2f2010%2f02%2f0320.gif&amp;ehk=sA31J08iYwGmYA4iJFGaFYcBpEF6HSqZcm4peN1N9yM%3d\n",
            "[!] Error:: HTTP Error 404: Not Found\n",
            "[%] Downloading Image #17 from https://www.nationalgeographic.com/content/dam/magazine/rights-exempt/2019/06/sargasso-sea/sargasso-sea-fish-ocean-20.ngsversion.1556218930140.adapt.1900.1.jpg\n",
            "[%] File Downloaded !\n",
            "\n",
            "[%] Downloading Image #18 from https://blog.marketo.com/content/uploads/2014/04/moneyball.jpg\n",
            "[%] File Downloaded !\n",
            "\n",
            "[%] Downloading Image #19 from https://www.vaniercollege.qc.ca/sports-recreation/files/2017/01/IMG_4545.jpg\n",
            "[%] File Downloaded !\n",
            "\n",
            "[%] Downloading Image #20 from https://vancouver.ca/images/cov/feature/pickleball-court-landing.jpg\n",
            "[%] File Downloaded !\n",
            "\n",
            "\n",
            "\n",
            "[%] Done. Downloaded 20 images.\n",
            "\n",
            "===============================================\n",
            "\n"
          ],
          "name": "stdout"
        }
      ]
    },
    {
      "cell_type": "code",
      "metadata": {
        "id": "mhZMpkkm7TFT"
      },
      "source": [
        ""
      ],
      "execution_count": null,
      "outputs": []
    },
    {
      "cell_type": "code",
      "metadata": {
        "colab": {
          "base_uri": "https://localhost:8080/"
        },
        "id": "gn1H9vTb7491",
        "outputId": "d1e497c8-72c7-48f4-bf3c-d40c76321e72"
      },
      "source": [
        "from bing_image_downloader import downloader\r\n",
        "downloader.download(\"cristiano\",limit=20,output_dir='images',adult_filter_off=True)"
      ],
      "execution_count": null,
      "outputs": [
        {
          "output_type": "stream",
          "text": [
            "\n",
            "\n",
            "[!!]Indexing page: 1\n",
            "\n",
            "[%] Indexed 13 Images on Page 1.\n",
            "\n",
            "===============================================\n",
            "\n",
            "[%] Downloading Image #1 from https://wallpapershome.com/images/wallpapers/fifa-18-1440x2560-cristiano-ronaldo-screenshot-4k-17782.jpg\n",
            "[%] File Downloaded !\n",
            "\n",
            "[%] Downloading Image #2 from https://www.engiel.com/wp-content/uploads/2018/08/GIF-Cristiano-Ronaldo-CR7-juventus-engiel-3.gif\n",
            "[%] File Downloaded !\n",
            "\n",
            "[%] Downloading Image #3 from https://www.bing.com/th/id/OGC.1284706bfcccf22f2deb01486af6f5c4?pid=1.7&amp;rurl=https%3a%2f%2fwww.engiel.com%2fwp-content%2fuploads%2f2018%2f08%2fGIF-Cristiano-Ronaldo-CR7-juventus-engiel-3.gif&amp;ehk=EQ1OmIhFSErCyZa4nYgj3sPx90lU9v5dIyIoUW7UinQ%3d\n",
            "[!] Issue getting: https://www.bing.com/th/id/OGC.1284706bfcccf22f2deb01486af6f5c4?pid=1.7&amp;rurl=https%3a%2f%2fwww.engiel.com%2fwp-content%2fuploads%2f2018%2f08%2fGIF-Cristiano-Ronaldo-CR7-juventus-engiel-3.gif&amp;ehk=EQ1OmIhFSErCyZa4nYgj3sPx90lU9v5dIyIoUW7UinQ%3d\n",
            "[!] Error:: HTTP Error 404: Not Found\n",
            "[%] Downloading Image #3 from http://en.zopix.net/image_upload/111063-landschaften-kreuz-religion-christlich.jpg\n",
            "[%] File Downloaded !\n",
            "\n",
            "[%] Downloading Image #4 from https://www.needsomefun.net/wp-content/uploads/2015/09/24-1.jpg\n",
            "[%] File Downloaded !\n",
            "\n",
            "[%] Downloading Image #5 from https://momayz.net/wp-content/uploads/2019/09/5511-8.jpg\n",
            "[%] File Downloaded !\n",
            "\n",
            "[%] Downloading Image #6 from https://thefirstnewspaper.com/wp-content/uploads/2019/02/maine-coon-kittens-142-5c35a8e71caaa__700.jpg\n",
            "[%] File Downloaded !\n",
            "\n",
            "[%] Downloading Image #7 from http://www.xboxachievements.com/images/news/PES2012_360_Packshot_OB_bwin_UK___Italy_%28PEGI3%29_-_RGB.jpg\n",
            "[!] Issue getting: http://www.xboxachievements.com/images/news/PES2012_360_Packshot_OB_bwin_UK___Italy_%28PEGI3%29_-_RGB.jpg\n",
            "[!] Error:: HTTP Error 403: Forbidden\n",
            "[%] Downloading Image #7 from https://upload.wikimedia.org/wikipedia/commons/1/11/Haystacks_painting.jpg\n",
            "[Error]Invalid image, not saving https://upload.wikimedia.org/wikipedia/commons/1/11/Haystacks_painting.jpg\n",
            "\n",
            "[!] Issue getting: https://upload.wikimedia.org/wikipedia/commons/1/11/Haystacks_painting.jpg\n",
            "[!] Error:: No active exception to reraise\n",
            "[%] Downloading Image #7 from https://hobe.cc/wp-content/uploads/2018/06/3449-6.jpg\n",
            "[%] File Downloaded !\n",
            "\n",
            "[%] Downloading Image #8 from https://photos-images.org/wp-content/uploads/2018/02/4452-5.jpg\n",
            "[%] File Downloaded !\n",
            "\n",
            "[%] Downloading Image #9 from https://medlineplus.gov/images/Bereavement.jpg\n",
            "[%] File Downloaded !\n",
            "\n",
            "[%] Downloading Image #10 from http://gmic.co.uk/uploads/monthly_2015_07/1786308_4_l.thumb.jpg.1dbdcfc73d21ce86511aaed96c8302d8.jpg\n",
            "[%] File Downloaded !\n",
            "\n",
            "\n",
            "\n",
            "[!!]Indexing page: 2\n",
            "\n",
            "[%] Indexed 13 Images on Page 2.\n",
            "\n",
            "===============================================\n",
            "\n",
            "[%] Downloading Image #11 from https://wallpapershome.com/images/wallpapers/fifa-18-1440x2560-cristiano-ronaldo-screenshot-4k-17782.jpg\n",
            "[%] File Downloaded !\n",
            "\n",
            "[%] Downloading Image #12 from https://www.engiel.com/wp-content/uploads/2018/08/GIF-Cristiano-Ronaldo-CR7-juventus-engiel-3.gif\n",
            "[%] File Downloaded !\n",
            "\n",
            "[%] Downloading Image #13 from https://www.bing.com/th/id/OGC.1284706bfcccf22f2deb01486af6f5c4?pid=1.7&amp;rurl=https%3a%2f%2fwww.engiel.com%2fwp-content%2fuploads%2f2018%2f08%2fGIF-Cristiano-Ronaldo-CR7-juventus-engiel-3.gif&amp;ehk=EQ1OmIhFSErCyZa4nYgj3sPx90lU9v5dIyIoUW7UinQ%3d\n",
            "[!] Issue getting: https://www.bing.com/th/id/OGC.1284706bfcccf22f2deb01486af6f5c4?pid=1.7&amp;rurl=https%3a%2f%2fwww.engiel.com%2fwp-content%2fuploads%2f2018%2f08%2fGIF-Cristiano-Ronaldo-CR7-juventus-engiel-3.gif&amp;ehk=EQ1OmIhFSErCyZa4nYgj3sPx90lU9v5dIyIoUW7UinQ%3d\n",
            "[!] Error:: HTTP Error 404: Not Found\n",
            "[%] Downloading Image #13 from http://en.zopix.net/image_upload/111063-landschaften-kreuz-religion-christlich.jpg\n",
            "[%] File Downloaded !\n",
            "\n",
            "[%] Downloading Image #14 from https://www.needsomefun.net/wp-content/uploads/2015/09/24-1.jpg\n",
            "[%] File Downloaded !\n",
            "\n",
            "[%] Downloading Image #15 from https://momayz.net/wp-content/uploads/2019/09/5511-8.jpg\n",
            "[%] File Downloaded !\n",
            "\n",
            "[%] Downloading Image #16 from https://thefirstnewspaper.com/wp-content/uploads/2019/02/maine-coon-kittens-142-5c35a8e71caaa__700.jpg\n",
            "[%] File Downloaded !\n",
            "\n",
            "[%] Downloading Image #17 from http://www.xboxachievements.com/images/news/PES2012_360_Packshot_OB_bwin_UK___Italy_%28PEGI3%29_-_RGB.jpg\n",
            "[!] Issue getting: http://www.xboxachievements.com/images/news/PES2012_360_Packshot_OB_bwin_UK___Italy_%28PEGI3%29_-_RGB.jpg\n",
            "[!] Error:: HTTP Error 403: Forbidden\n",
            "[%] Downloading Image #17 from https://upload.wikimedia.org/wikipedia/commons/1/11/Haystacks_painting.jpg\n",
            "[Error]Invalid image, not saving https://upload.wikimedia.org/wikipedia/commons/1/11/Haystacks_painting.jpg\n",
            "\n",
            "[!] Issue getting: https://upload.wikimedia.org/wikipedia/commons/1/11/Haystacks_painting.jpg\n",
            "[!] Error:: No active exception to reraise\n",
            "[%] Downloading Image #17 from https://hobe.cc/wp-content/uploads/2018/06/3449-6.jpg\n",
            "[%] File Downloaded !\n",
            "\n",
            "[%] Downloading Image #18 from https://photos-images.org/wp-content/uploads/2018/02/4452-5.jpg\n",
            "[%] File Downloaded !\n",
            "\n",
            "[%] Downloading Image #19 from https://medlineplus.gov/images/Bereavement.jpg\n",
            "[%] File Downloaded !\n",
            "\n",
            "[%] Downloading Image #20 from http://gmic.co.uk/uploads/monthly_2015_07/1786308_4_l.thumb.jpg.1dbdcfc73d21ce86511aaed96c8302d8.jpg\n",
            "[%] File Downloaded !\n",
            "\n"
          ],
          "name": "stdout"
        }
      ]
    },
    {
      "cell_type": "code",
      "metadata": {
        "colab": {
          "base_uri": "https://localhost:8080/"
        },
        "id": "RlyDxhI48L1N",
        "outputId": "b0c87f98-f184-442e-ed5e-a6a844ef288c"
      },
      "source": [
        "import os\r\n",
        "import matplotlib.pyplot as plt\r\n",
        "import numpy as np\r\n",
        "from skimage.io import imread\r\n",
        "from skimage.transform import resize\r\n",
        "target = []\r\n",
        "images = []\r\n",
        "flat_data = []\r\n",
        "DATADIR = '/content/images'\r\n",
        "CATEGORIES = ['cristiano','soccer ball','super cars']\r\n",
        "for category in CATEGORIES:\r\n",
        "  class_num = CATEGORIES.index(category)\r\n",
        "  path = os.path.join(DATADIR,category)\r\n",
        "  for img in os.listdir(path):\r\n",
        "    img_array = imread(os.path.join(path,img))\r\n",
        "    img_resized = resize(img_array,(150,150,3))\r\n",
        "    flat_data.append(img_resized.flatten())\r\n",
        "    images.append(img_resized)\r\n",
        "    target.append(class_num)\r\n",
        "\r\n",
        "flat_data = np.array(flat_data)\r\n",
        "target = np.array(target)\r\n",
        "images = np.array(images)    "
      ],
      "execution_count": null,
      "outputs": [
        {
          "output_type": "stream",
          "text": [
            "time: 1min 4s (started: 2021-02-18 17:14:46 +00:00)\n"
          ],
          "name": "stdout"
        }
      ]
    },
    {
      "cell_type": "code",
      "metadata": {
        "colab": {
          "base_uri": "https://localhost:8080/"
        },
        "id": "JSytVTP0CekK",
        "outputId": "c084bf1f-9eff-4434-a826-eb1db7c68862"
      },
      "source": [
        "len(flat_data[0])"
      ],
      "execution_count": null,
      "outputs": [
        {
          "output_type": "execute_result",
          "data": {
            "text/plain": [
              "67500"
            ]
          },
          "metadata": {
            "tags": []
          },
          "execution_count": 11
        }
      ]
    },
    {
      "cell_type": "code",
      "metadata": {
        "colab": {
          "base_uri": "https://localhost:8080/"
        },
        "id": "FvQq15XHCtY6",
        "outputId": "56477d4e-6c92-46d6-c438-4c3203dc0aaf"
      },
      "source": [
        "target"
      ],
      "execution_count": null,
      "outputs": [
        {
          "output_type": "execute_result",
          "data": {
            "text/plain": [
              "array([0, 0, 0, 0, 0, 0, 0, 0, 0, 0, 0, 0, 0, 0, 0, 0, 0, 0, 0, 0, 1, 1,\n",
              "       1, 1, 1, 1, 1, 1, 1, 1, 1, 1, 1, 1, 1, 1, 1, 1, 1, 1, 2, 2, 2, 2,\n",
              "       2, 2, 2, 2, 2, 2, 2, 2, 2, 2, 2, 2, 2, 2, 2, 2])"
            ]
          },
          "metadata": {
            "tags": []
          },
          "execution_count": 12
        }
      ]
    },
    {
      "cell_type": "code",
      "metadata": {
        "colab": {
          "base_uri": "https://localhost:8080/",
          "height": 282
        },
        "id": "8qjB8e6TC2TF",
        "outputId": "fdeee477-108b-43cc-cc50-1a82e2b1f7a2"
      },
      "source": [
        "unique,count = np.unique(target,return_counts=True)\r\n",
        "plt.bar(CATEGORIES,count)"
      ],
      "execution_count": null,
      "outputs": [
        {
          "output_type": "execute_result",
          "data": {
            "text/plain": [
              "<BarContainer object of 3 artists>"
            ]
          },
          "metadata": {
            "tags": []
          },
          "execution_count": 13
        },
        {
          "output_type": "display_data",
          "data": {
            "image/png": "[encoded data removed]",
            "text/plain": [
              "<Figure size 432x288 with 1 Axes>"
            ]
          },
          "metadata": {
            "tags": [],
            "needs_background": "light"
          }
        }
      ]
    },
    {
      "cell_type": "code",
      "metadata": {
        "id": "ipHAS8llDMoE"
      },
      "source": [
        "from sklearn.model_selection import train_test_split\r\n",
        "x_train,x_test,y_train,y_test = train_test_split(flat_data,target,test_size=0.3,random_state=109)"
      ],
      "execution_count": null,
      "outputs": []
    },
    {
      "cell_type": "code",
      "metadata": {
        "id": "p0OA3EwPEP2v",
        "colab": {
          "base_uri": "https://localhost:8080/"
        },
        "outputId": "27338ee4-9b32-4b7f-aed6-a5a7435420a8"
      },
      "source": [
        "from sklearn.model_selection import GridSearchCV\r\n",
        "from sklearn import svm\r\n",
        "param_grid = [\r\n",
        "              {'C':[1,10,100,1000],'kernel':['linear']},\r\n",
        "              {'C':[1,10,100,1000],'gamma':[0.001,0.0001],'kernel':['rbf']},\r\n",
        "]\r\n",
        "svc = svm.SVC(probability=True)\r\n",
        "clf = GridSearchCV(svc,param_grid)\r\n",
        "clf.fit(x_train,y_train)"
      ],
      "execution_count": null,
      "outputs": [
        {
          "output_type": "execute_result",
          "data": {
            "text/plain": [
              "GridSearchCV(cv=None, error_score=nan,\n",
              "             estimator=SVC(C=1.0, break_ties=False, cache_size=200,\n",
              "                           class_weight=None, coef0=0.0,\n",
              "                           decision_function_shape='ovr', degree=3,\n",
              "                           gamma='scale', kernel='rbf', max_iter=-1,\n",
              "                           probability=True, random_state=None, shrinking=True,\n",
              "                           tol=0.001, verbose=False),\n",
              "             iid='deprecated', n_jobs=None,\n",
              "             param_grid=[{'C': [1, 10, 100, 1000], 'kernel': ['linear']},\n",
              "                         {'C': [1, 10, 100, 1000], 'gamma': [0.001, 0.0001],\n",
              "                          'kernel': ['rbf']}],\n",
              "             pre_dispatch='2*n_jobs', refit=True, return_train_score=False,\n",
              "             scoring=None, verbose=0)"
            ]
          },
          "metadata": {
            "tags": []
          },
          "execution_count": 17
        },
        {
          "output_type": "stream",
          "text": [
            "time: 46.2 s (started: 2021-02-18 16:48:20 +00:00)\n"
          ],
          "name": "stdout"
        }
      ]
    },
    {
      "cell_type": "code",
      "metadata": {
        "id": "upjzO57m_vEl",
        "colab": {
          "base_uri": "https://localhost:8080/"
        },
        "outputId": "62dc93ab-231d-4cbc-c450-09c1125a5673"
      },
      "source": [
        "y_pred = clf.predict(x_test)\r\n",
        "y_pred"
      ],
      "execution_count": null,
      "outputs": [
        {
          "output_type": "execute_result",
          "data": {
            "text/plain": [
              "array([1, 0, 0, 1, 0, 0, 0, 0, 0, 1, 0, 0, 2, 1, 1, 1, 1, 0])"
            ]
          },
          "metadata": {
            "tags": []
          },
          "execution_count": 18
        },
        {
          "output_type": "stream",
          "text": [
            "time: 69.5 ms (started: 2021-02-18 16:50:49 +00:00)\n"
          ],
          "name": "stdout"
        }
      ]
    },
    {
      "cell_type": "code",
      "metadata": {
        "colab": {
          "base_uri": "https://localhost:8080/"
        },
        "id": "4Nx9vJ-cDS70",
        "outputId": "e0ff1f34-1fc8-4a4d-aab3-890f1afe25db"
      },
      "source": [
        "y_test"
      ],
      "execution_count": null,
      "outputs": [
        {
          "output_type": "execute_result",
          "data": {
            "text/plain": [
              "array([1, 0, 0, 1, 1, 0, 2, 1, 0, 1, 2, 2, 2, 1, 1, 1, 1, 0])"
            ]
          },
          "metadata": {
            "tags": []
          },
          "execution_count": 19
        },
        {
          "output_type": "stream",
          "text": [
            "time: 3.61 ms (started: 2021-02-18 16:51:06 +00:00)\n"
          ],
          "name": "stdout"
        }
      ]
    },
    {
      "cell_type": "code",
      "metadata": {
        "colab": {
          "base_uri": "https://localhost:8080/"
        },
        "id": "666jZAK4DXSA",
        "outputId": "2df20955-b1e9-4ba3-cafb-34b3de3192d0"
      },
      "source": [
        "from sklearn.metrics import accuracy_score,confusion_matrix"
      ],
      "execution_count": null,
      "outputs": [
        {
          "output_type": "stream",
          "text": [
            "time: 1.23 ms (started: 2021-02-18 16:52:19 +00:00)\n"
          ],
          "name": "stdout"
        }
      ]
    },
    {
      "cell_type": "code",
      "metadata": {
        "colab": {
          "base_uri": "https://localhost:8080/"
        },
        "id": "H3dlN745DorW",
        "outputId": "573dea32-da76-4570-f38a-93bb7bafe98d"
      },
      "source": [
        "accuracy_score(y_pred,y_test)"
      ],
      "execution_count": null,
      "outputs": [
        {
          "output_type": "execute_result",
          "data": {
            "text/plain": [
              "0.7222222222222222"
            ]
          },
          "metadata": {
            "tags": []
          },
          "execution_count": 21
        },
        {
          "output_type": "stream",
          "text": [
            "time: 4.22 ms (started: 2021-02-18 16:53:30 +00:00)\n"
          ],
          "name": "stdout"
        }
      ]
    },
    {
      "cell_type": "code",
      "metadata": {
        "colab": {
          "base_uri": "https://localhost:8080/"
        },
        "id": "xfo1nV7QD92s",
        "outputId": "cd1a1695-fb10-4e71-bd47-9f88af201b06"
      },
      "source": [
        "confusion_matrix(y_pred,y_test)"
      ],
      "execution_count": null,
      "outputs": [
        {
          "output_type": "execute_result",
          "data": {
            "text/plain": [
              "array([[5, 2, 3],\n",
              "       [0, 7, 0],\n",
              "       [0, 0, 1]])"
            ]
          },
          "metadata": {
            "tags": []
          },
          "execution_count": 22
        },
        {
          "output_type": "stream",
          "text": [
            "time: 4.42 ms (started: 2021-02-18 16:54:12 +00:00)\n"
          ],
          "name": "stdout"
        }
      ]
    },
    {
      "cell_type": "code",
      "metadata": {
        "colab": {
          "base_uri": "https://localhost:8080/"
        },
        "id": "NX1d2Np-EEn1",
        "outputId": "293340c4-7c17-43f9-f91e-100487945253"
      },
      "source": [
        "import pickle\r\n",
        "pickle.dump(clf,open('img_model.p','wb'))"
      ],
      "execution_count": null,
      "outputs": [
        {
          "output_type": "stream",
          "text": [
            "time: 32.2 ms (started: 2021-02-18 17:02:27 +00:00)\n"
          ],
          "name": "stdout"
        }
      ]
    },
    {
      "cell_type": "code",
      "metadata": {
        "colab": {
          "base_uri": "https://localhost:8080/"
        },
        "id": "bSN0ivUMF94i",
        "outputId": "7ff673d2-5aeb-452e-e7b3-6d785b7e068a"
      },
      "source": [
        "model = pickle.load(open('img_model.p','rb'))"
      ],
      "execution_count": null,
      "outputs": [
        {
          "output_type": "stream",
          "text": [
            "time: 18.9 ms (started: 2021-02-18 17:04:23 +00:00)\n"
          ],
          "name": "stdout"
        }
      ]
    },
    {
      "cell_type": "code",
      "metadata": {
        "colab": {
          "base_uri": "https://localhost:8080/",
          "height": 357
        },
        "id": "lCX54M3bGZsC",
        "outputId": "03bda632-2293-431a-f6cc-4d4ab4a7ff2c"
      },
      "source": [
        "flat_data = []\r\n",
        "url = input('Give the URL of image')\r\n",
        "img = imread(url)\r\n",
        "img_resized = resize(img,(150,150,3))\r\n",
        "flat_data.append(img_resized.flatten())\r\n",
        "flat_data = np.array(flat_data)\r\n",
        "print(img.shape)\r\n",
        "plt.imshow(img_resized)\r\n",
        "y_out=model.predict(flat_data)\r\n",
        "y_out=CATEGORIES[y_out[0]]\r\n",
        "print(f'PREDICTION IS : {y_out}')\r\n"
      ],
      "execution_count": null,
      "outputs": [
        {
          "output_type": "stream",
          "text": [
            "Give the URL of imagehttps://imgresizer.eurosport.com/unsafe/1200x0/filters:format(jpeg):focal(1269x326:1271x324)/origin-imgresizer.eurosport.com/2021/02/17/2997132-61498368-2560-1440.jpg\n",
            "(675, 1200, 3)\n",
            "PREDICTION IS : cristiano\n"
          ],
          "name": "stdout"
        },
        {
          "output_type": "display_data",
          "data": {
            "image/png": "[encoded data removed]",
            "text/plain": [
              "<Figure size 432x288 with 1 Axes>"
            ]
          },
          "metadata": {
            "tags": [],
            "needs_background": "light"
          }
        },
        {
          "output_type": "stream",
          "text": [
            "time: 2.9 s (started: 2021-02-18 17:17:51 +00:00)\n"
          ],
          "name": "stdout"
        }
      ]
    }
  ]
}